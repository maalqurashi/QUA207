{
  "nbformat": 4,
  "nbformat_minor": 0,
  "metadata": {
    "colab": {
      "provenance": []
    },
    "kernelspec": {
      "name": "python3",
      "display_name": "Python 3"
    },
    "language_info": {
      "name": "python"
    }
  },
  "cells": [
    {
      "cell_type": "markdown",
      "source": [
        "# Types in Python:\n",
        "No need to declare the object type in advance.\n"
      ],
      "metadata": {
        "id": "omdwdDq32V-k"
      }
    },
    {
      "cell_type": "markdown",
      "source": [
        "## Numbers:\n",
        "1.   integers `int`\n",
        "2.   flot `flot`\n"
      ],
      "metadata": {
        "id": "rkWds_lb-gdT"
      }
    },
    {
      "cell_type": "markdown",
      "source": [
        "### Integer objects\n",
        "Integers are whole numbers. \\\n",
        "To check the object type in python we use the command `type()` \\\n",
        "**Note**: assignation does not requaire Python to print anything."
      ],
      "metadata": {
        "id": "kbJC2zrP22Yb"
      }
    },
    {
      "cell_type": "code",
      "execution_count": null,
      "metadata": {
        "id": "D3zboefT2MxT"
      },
      "outputs": [],
      "source": [
        "x = 3\n",
        "type(x)"
      ]
    },
    {
      "cell_type": "markdown",
      "source": [
        "### Float objects:\n",
        "A floating point number, is a positive or negative whole number with a decimal point."
      ],
      "metadata": {
        "id": "0Rp62kB_3DTh"
      }
    },
    {
      "cell_type": "code",
      "source": [
        "y = 1.5\n",
        "type(y)"
      ],
      "metadata": {
        "id": "LYirHVoq6WH5"
      },
      "execution_count": null,
      "outputs": []
    },
    {
      "cell_type": "markdown",
      "source": [
        "### Mixing integers and floats\n",
        "\n",
        "Python is dynamically typed."
      ],
      "metadata": {
        "id": "tlCSGVhj7FmI"
      }
    },
    {
      "cell_type": "code",
      "source": [
        "z = x/y\n",
        "print(z)\n",
        "type(z)"
      ],
      "metadata": {
        "id": "NfJ1tlOw7N7u"
      },
      "execution_count": null,
      "outputs": []
    },
    {
      "cell_type": "markdown",
      "source": [
        "### Casting a type:\n",
        "Requiring the result stored in an object to be of a certain type.\n",
        "\n",
        "\n",
        "\n",
        "*    `int()` creates an integer number from an integer literal,\n",
        "a float literal by removing all decimals, or a string literal\n",
        "(so long as the string represents a whole number)\n",
        "\n",
        "*   `float()` creates a float number from an integer literal,\n",
        "a float literal or a string literal (so long as the string\n",
        "represents a float or an integer)\n",
        "\n",
        "*   `str()` creates a string from a wide variety of data types,\n",
        "including strings, integer literals and float literals\n",
        "\n",
        "\n",
        "\n",
        "\n",
        "\n"
      ],
      "metadata": {
        "id": "u5eYyPOjGV6P"
      }
    },
    {
      "cell_type": "code",
      "source": [
        "z = int(z)\n",
        "print(z)\n",
        "type(z)"
      ],
      "metadata": {
        "id": "fU5lsig8G1yy"
      },
      "execution_count": null,
      "outputs": []
    },
    {
      "cell_type": "code",
      "source": [
        "x = float(1)\n",
        "print(x)\n",
        "type(x)"
      ],
      "metadata": {
        "id": "OoDsB8zNIRaz"
      },
      "execution_count": null,
      "outputs": []
    },
    {
      "cell_type": "code",
      "source": [
        "y = int('2')\n",
        "print(y)\n",
        "type(y)"
      ],
      "metadata": {
        "id": "h8BjtpN-IjbB"
      },
      "execution_count": null,
      "outputs": []
    },
    {
      "cell_type": "code",
      "source": [
        "z = str(6.3)\n",
        "print(z)\n",
        "type(z)"
      ],
      "metadata": {
        "id": "RRARjUjMIs66"
      },
      "execution_count": null,
      "outputs": []
    },
    {
      "cell_type": "markdown",
      "source": [
        "## Strings:\n",
        "* A string is a sequence of characters or text.\n",
        "* Strings in Python are defined by enclosing the characters in question in either single (`' '`) or double quotes (`\" \"`).\n",
        "* Strings in Python are immutable. (This means Strings in Python are immutable.\n",
        "that it is not possible to change individual elements of a\n",
        "string)"
      ],
      "metadata": {
        "id": "nAKb4RgUJON5"
      }
    },
    {
      "cell_type": "markdown",
      "source": [
        "### Examples:"
      ],
      "metadata": {
        "id": "4mqMfZqaLK4Y"
      }
    },
    {
      "cell_type": "code",
      "source": [
        "example1 = 'This is a string'\n",
        "example2 = \"And this is also a string\""
      ],
      "metadata": {
        "id": "ImaaTjMUKUIP"
      },
      "execution_count": null,
      "outputs": []
    },
    {
      "cell_type": "code",
      "source": [
        "print(example1)\n",
        "print(example2)"
      ],
      "metadata": {
        "id": "qLVKGoxXKrzk"
      },
      "execution_count": null,
      "outputs": []
    },
    {
      "cell_type": "code",
      "source": [
        "type(example1)\n",
        "type(example2)"
      ],
      "metadata": {
        "id": "zQP22HJwKzgt"
      },
      "execution_count": null,
      "outputs": []
    },
    {
      "cell_type": "markdown",
      "source": [
        "### Concatenation:\n",
        "Concatenation of strings can be achieved with the `+` symbol."
      ],
      "metadata": {
        "id": "EBQu1-gIK6di"
      }
    },
    {
      "cell_type": "code",
      "source": [
        "Color_1, Color_2 = 'Red', 'Blue'  #In Python is it possible to assign multiple values to multiple variables in one single line of code.\n",
        "print(Color_1 + ' and ' + Color_2)"
      ],
      "metadata": {
        "id": "kijVhtnjLWcY"
      },
      "execution_count": null,
      "outputs": []
    },
    {
      "cell_type": "code",
      "source": [
        "# print(Color_1 + y) #Error!"
      ],
      "metadata": {
        "id": "95o0W4C8yOvf"
      },
      "execution_count": null,
      "outputs": []
    },
    {
      "cell_type": "code",
      "source": [
        "print(Color_1 + str(y))"
      ],
      "metadata": {
        "id": "7RpuFjpPzBq_"
      },
      "execution_count": null,
      "outputs": []
    },
    {
      "cell_type": "code",
      "source": [
        "print(Color_1 + ' and ' + 3*(Color_2 + ' ')) # The multiplication operator * to be used with strings and in this case it replicates the string."
      ],
      "metadata": {
        "id": "jMphHKZpza4R"
      },
      "execution_count": null,
      "outputs": []
    },
    {
      "cell_type": "markdown",
      "source": [
        "### Strings over multiple lines:\n",
        "To create strings over multiple lines with the use of triple single (`'`) or double (`\"`) quotes. This is also useful to define docstrings for functions."
      ],
      "metadata": {
        "id": "6FD7Y3gm8YQA"
      }
    },
    {
      "cell_type": "code",
      "source": [
        "Intro =  '''Introduction:\n",
        "This course is an introductry course in\n",
        "data manipulation using python\n",
        "and some basic statistics.\n",
        "'''\n",
        "print(Intro)"
      ],
      "metadata": {
        "colab": {
          "base_uri": "https://localhost:8080/"
        },
        "id": "hXLe-eqI81Gf",
        "outputId": "70542d45-f07a-43c4-ceb0-9755b904b560"
      },
      "execution_count": null,
      "outputs": [
        {
          "output_type": "stream",
          "name": "stdout",
          "text": [
            "Introduction:\n",
            "This course is an introductry course in\n",
            "data manipulation using python\n",
            "and some basic statistics.\n",
            "\n"
          ]
        }
      ]
    },
    {
      "cell_type": "markdown",
      "source": [
        "## Complex Numbers:\n",
        "\n",
        "* Python denotes the imaginary number $i = \\sqrt{-1}$ as `j`."
      ],
      "metadata": {
        "id": "BUyVNviP6pm1"
      }
    },
    {
      "cell_type": "code",
      "source": [
        "z=42+24j # z = 42 + 24i\n",
        "print(z)\n",
        "type(z)"
      ],
      "metadata": {
        "id": "LgkHZeeZ71Ob"
      },
      "execution_count": null,
      "outputs": []
    },
    {
      "cell_type": "code",
      "source": [
        "print('The real part is {0}, the imaginary part is {1}'.format(z.real, z.imag))"
      ],
      "metadata": {
        "id": "K11BawJq9tvr"
      },
      "execution_count": null,
      "outputs": []
    },
    {
      "cell_type": "code",
      "source": [
        "print('The real part is {0},\\\n",
        "the imaginary part is {1}'\\\n",
        ".format(z.real, z.imag))"
      ],
      "metadata": {
        "id": "W76NPg2y-jKm"
      },
      "execution_count": null,
      "outputs": []
    },
    {
      "cell_type": "code",
      "source": [
        "x=1\n",
        "print(\"x is equal to {0}\".format(x))"
      ],
      "metadata": {
        "id": "iW-gsvpR_T8d"
      },
      "execution_count": null,
      "outputs": []
    },
    {
      "cell_type": "code",
      "source": [
        "x, y = complex(1, 2), complex(3, 4) #We can also create complex numbers with complex()."
      ],
      "metadata": {
        "id": "f0AecQ_PAbg5"
      },
      "execution_count": null,
      "outputs": []
    },
    {
      "cell_type": "code",
      "source": [
        "print('Addition =', x + y)\n",
        "print('Subtraction =', x - y)\n",
        "print('Multiplication =', x * y)\n",
        "print('Division =', x / y)\n",
        "print('Conjugate =', x.conjugate())"
      ],
      "metadata": {
        "id": "AenZfC-LA6ei"
      },
      "execution_count": null,
      "outputs": []
    },
    {
      "cell_type": "code",
      "source": [
        "print('Addition = {0}'.format(x+y))"
      ],
      "metadata": {
        "id": "0oFkv6lHBLBC"
      },
      "execution_count": null,
      "outputs": []
    },
    {
      "cell_type": "markdown",
      "source": [
        "## Collections in Python:\n",
        "\n",
        "\n",
        "1.   Lists\n",
        "2.   Tuples\n",
        "3.   Dictionaries\n",
        "4.   Sets\n",
        "\n"
      ],
      "metadata": {
        "id": "KIdZY_PbB6r9"
      }
    },
    {
      "cell_type": "markdown",
      "source": [
        "### Lists:\n",
        "\n",
        "\n",
        "*   A list is a very versatile type that puts items in a sequence.\n",
        "*   Python lists can have items of different types.\n",
        "*   A list in Python is defined with square brackets `[]`\n",
        "*   Lists are mutable objects and therefore it is possible to change individual elements in a list.\n",
        "\n"
      ],
      "metadata": {
        "id": "MgNz5hDLCyDk"
      }
    },
    {
      "cell_type": "markdown",
      "source": [
        "#### Examples:"
      ],
      "metadata": {
        "id": "GxjSdmflEg-x"
      }
    },
    {
      "cell_type": "code",
      "source": [
        "numbers = [1, 2, 3, 4, 5]\n",
        "colors = ['Red', 'Blue', 'Green', 'Red', 'Red']\n",
        "nc = [3, 'Red', 'Green', 1.32]"
      ],
      "metadata": {
        "id": "TP76APYVCYR6"
      },
      "execution_count": 51,
      "outputs": []
    },
    {
      "cell_type": "markdown",
      "source": [
        "#### Indexing:\n",
        "\n",
        "\n",
        "*   **Single element**: We are referring to the first element in the list `numbers` with the index 0."
      ],
      "metadata": {
        "id": "jSQFruGfEjlg"
      }
    },
    {
      "cell_type": "code",
      "source": [
        "numbers[0] #Looking at an individual item"
      ],
      "metadata": {
        "id": "tywCf--_DYK9"
      },
      "execution_count": null,
      "outputs": []
    },
    {
      "cell_type": "markdown",
      "source": [
        "*   **sub-sequence**: We refer to the sub-sequence with the help of a colon as `[start:end]`, where `start` refers to the first element we want to include in the sub-sequence and `end` is the last element we want to consider in the slice."
      ],
      "metadata": {
        "id": "w0RGIJmfGnlh"
      }
    },
    {
      "cell_type": "code",
      "source": [
        "colors[2:4] #sub-sequence in the list \"slicing and dicing\""
      ],
      "metadata": {
        "id": "aQzHF1nfDjml"
      },
      "execution_count": null,
      "outputs": []
    },
    {
      "cell_type": "markdown",
      "source": [
        "* **negative indices**: In list case the last item has the index-1, the next one -2 and so on"
      ],
      "metadata": {
        "id": "TZ47YUdpHxZR"
      }
    },
    {
      "cell_type": "code",
      "source": [
        "nc[-1]"
      ],
      "metadata": {
        "id": "EL2ZwIVeIDaZ"
      },
      "execution_count": null,
      "outputs": []
    },
    {
      "cell_type": "code",
      "source": [
        "L = 'StarTrek'\n",
        "L"
      ],
      "metadata": {
        "id": "MdtUqEV1IPbx"
      },
      "execution_count": null,
      "outputs": []
    },
    {
      "cell_type": "code",
      "source": [
        "L[0]"
      ],
      "metadata": {
        "id": "m-n41PkGInhL"
      },
      "execution_count": null,
      "outputs": []
    },
    {
      "cell_type": "code",
      "source": [
        "L[1:4]"
      ],
      "metadata": {
        "id": "W233CQsZIpP_"
      },
      "execution_count": null,
      "outputs": []
    },
    {
      "cell_type": "code",
      "source": [
        "L[-4:-1]"
      ],
      "metadata": {
        "id": "cmECrvPtIrLM"
      },
      "execution_count": null,
      "outputs": []
    },
    {
      "cell_type": "markdown",
      "source": [
        "#### Immutability"
      ],
      "metadata": {
        "id": "jyjZBuDxJ2Vf"
      }
    },
    {
      "cell_type": "code",
      "source": [
        "scifi = ['S','t','a','r','T','r','e','k']\n",
        "scifi[4]"
      ],
      "metadata": {
        "id": "fG_VVamQJIMH"
      },
      "execution_count": null,
      "outputs": []
    },
    {
      "cell_type": "code",
      "source": [
        "scifi[4:] = 'W','a','r','s'\n",
        "scifi"
      ],
      "metadata": {
        "id": "Smiqlf4tJP5E"
      },
      "execution_count": null,
      "outputs": []
    },
    {
      "cell_type": "markdown",
      "source": [
        "* **Adding elements**"
      ],
      "metadata": {
        "id": "yHFHtsdPJ8rq"
      }
    },
    {
      "cell_type": "code",
      "source": [
        "numbers.append(6)\n",
        "numbers"
      ],
      "metadata": {
        "id": "RdTxBVwHKHvp"
      },
      "execution_count": null,
      "outputs": []
    },
    {
      "cell_type": "markdown",
      "source": [
        "* **Concatenation**:  Achieved with the `+` operator"
      ],
      "metadata": {
        "id": "tMpwBFNVKfrQ"
      }
    },
    {
      "cell_type": "code",
      "source": [
        "numbers+colors"
      ],
      "metadata": {
        "id": "MaVKx-23KeBo"
      },
      "execution_count": null,
      "outputs": []
    },
    {
      "cell_type": "markdown",
      "source": [
        "* **sorting**: We do this with the `sort` method."
      ],
      "metadata": {
        "id": "fKkIZNcrLHJ_"
      }
    },
    {
      "cell_type": "code",
      "source": [
        "l1 = [21, 0, 3, 1, 34, 8, 13, 1, 55, 5, 2]\n",
        "l1"
      ],
      "metadata": {
        "id": "9bJLUboYLVr0"
      },
      "execution_count": null,
      "outputs": []
    },
    {
      "cell_type": "code",
      "source": [
        "l1.sort() #The sorting is done in place and this means that now our list has changed\n",
        "l1"
      ],
      "metadata": {
        "id": "ZMlNW5fqLa0t"
      },
      "execution_count": null,
      "outputs": []
    },
    {
      "cell_type": "code",
      "source": [
        "l1.sort(reverse=True)\n",
        "l1"
      ],
      "metadata": {
        "id": "RpgjUCCMMAq5"
      },
      "execution_count": null,
      "outputs": []
    },
    {
      "cell_type": "markdown",
      "source": [
        "We ca use the sorted function and the difference is that the function will create a new object rather than changing the original"
      ],
      "metadata": {
        "id": "tuLX31r8MSnX"
      }
    },
    {
      "cell_type": "code",
      "source": [
        "l1 = [21, 0, 3, 1, 34, 8, 13, 1, 55, 5, 2]\n",
        "print(sorted(l1))"
      ],
      "metadata": {
        "id": "oJa_mJv_MgeZ"
      },
      "execution_count": null,
      "outputs": []
    },
    {
      "cell_type": "code",
      "source": [
        "l1"
      ],
      "metadata": {
        "id": "V7CafnjlMo9Q"
      },
      "execution_count": null,
      "outputs": []
    },
    {
      "cell_type": "code",
      "source": [
        "sorted(l1, reverse=True)"
      ],
      "metadata": {
        "id": "IRBWL4nPMxr4"
      },
      "execution_count": null,
      "outputs": []
    },
    {
      "cell_type": "markdown",
      "source": [
        "The elements of a list can be other types of objects, for\n",
        "example they can be other lists"
      ],
      "metadata": {
        "id": "X2cmpn7aM9rZ"
      }
    },
    {
      "cell_type": "code",
      "source": [
        " m = [[1,2], [2,3], [3,4]]\n",
        " m[2]"
      ],
      "metadata": {
        "id": "I350S8nFNIIa"
      },
      "execution_count": null,
      "outputs": []
    },
    {
      "cell_type": "code",
      "source": [
        "m[2][1]"
      ],
      "metadata": {
        "id": "n2uvxUuQNOB7"
      },
      "execution_count": null,
      "outputs": []
    },
    {
      "cell_type": "markdown",
      "source": [
        "We can obtain the length of a list with the `len` function"
      ],
      "metadata": {
        "id": "glB_bugmNXpx"
      }
    },
    {
      "cell_type": "code",
      "source": [
        "len(m)"
      ],
      "metadata": {
        "id": "xoJYD9S8Naja"
      },
      "execution_count": null,
      "outputs": []
    },
    {
      "cell_type": "markdown",
      "source": [
        "* **Copy**"
      ],
      "metadata": {
        "id": "K-fjzeQTO6jO"
      }
    },
    {
      "cell_type": "code",
      "source": [
        "x = [2,4,10,1]"
      ],
      "metadata": {
        "id": "h-yYHK57PAGf"
      },
      "execution_count": 31,
      "outputs": []
    },
    {
      "cell_type": "code",
      "source": [
        "y = x"
      ],
      "metadata": {
        "id": "cqvX8mUCPGyj"
      },
      "execution_count": 33,
      "outputs": []
    },
    {
      "cell_type": "code",
      "source": [
        "x"
      ],
      "metadata": {
        "id": "CF41aP7EPNw1"
      },
      "execution_count": null,
      "outputs": []
    },
    {
      "cell_type": "code",
      "source": [
        "y"
      ],
      "metadata": {
        "id": "TLid5VXoPPgH"
      },
      "execution_count": null,
      "outputs": []
    },
    {
      "cell_type": "code",
      "source": [
        "x.sort()"
      ],
      "metadata": {
        "id": "_NH_XjjbPQpq"
      },
      "execution_count": 38,
      "outputs": []
    },
    {
      "cell_type": "code",
      "source": [
        "x"
      ],
      "metadata": {
        "id": "hVcm0rSWPUmS"
      },
      "execution_count": null,
      "outputs": []
    },
    {
      "cell_type": "code",
      "source": [
        "y"
      ],
      "metadata": {
        "id": "lW3xKpikPVZy"
      },
      "execution_count": null,
      "outputs": []
    },
    {
      "cell_type": "code",
      "source": [
        "x = [2,4,10,1]\n",
        "y = x.copy()\n",
        "x.sort()"
      ],
      "metadata": {
        "id": "8cyDacd2Pb5i"
      },
      "execution_count": 41,
      "outputs": []
    },
    {
      "cell_type": "code",
      "source": [
        "x"
      ],
      "metadata": {
        "id": "RCDj27HGPkLI"
      },
      "execution_count": null,
      "outputs": []
    },
    {
      "cell_type": "code",
      "source": [
        "y"
      ],
      "metadata": {
        "id": "bFGzhCG3PlrE"
      },
      "execution_count": null,
      "outputs": []
    },
    {
      "cell_type": "markdown",
      "source": [
        "#### List comprehension:\n",
        "* List comprehension offers a shorter syntax when you want to create a new list based on the values of an existing list.\n",
        "* Full syntax: newlist = [ expression **`for`** item **`in`** iterable **`if`** condition == True]."
      ],
      "metadata": {
        "id": "4ej7djjyQXDA"
      }
    },
    {
      "cell_type": "code",
      "source": [
        "l2 = [x**2 for x in l1]\n",
        "l2"
      ],
      "metadata": {
        "colab": {
          "base_uri": "https://localhost:8080/"
        },
        "id": "0WVb_PfiQePw",
        "outputId": "d9baf30a-a960-4ac1-ba22-3d192f9bdf9a"
      },
      "execution_count": 44,
      "outputs": [
        {
          "output_type": "execute_result",
          "data": {
            "text/plain": [
              "[441, 0, 9, 1, 1156, 64, 169, 1, 3025, 25, 4]"
            ]
          },
          "metadata": {},
          "execution_count": 44
        }
      ]
    },
    {
      "cell_type": "markdown",
      "source": [
        "###  Tuples\n",
        "\n",
        "* Tuple items are ordered, unchangeable, and allow duplicate values.\n",
        "* The items of a tuple can be of different types.\n",
        "* Tuples are defined with round brackets `( )`, and each element in the tuple is separated with a comma.\n",
        "* Tuples are iterables where order is important"
      ],
      "metadata": {
        "id": "7CnolQdsRzIo"
      }
    },
    {
      "cell_type": "markdown",
      "source": [
        "#### Examples:"
      ],
      "metadata": {
        "id": "Sv3fLB42SoV1"
      }
    },
    {
      "cell_type": "code",
      "source": [
        "numbers_tuple = (1, 2, 3, 4, 5)\n",
        "colors_tuple = ('Red', 'Blue', 'Green', 'Red', 'Red')\n",
        "nc_tuple = (3, 'Red', 'Green', 1.32)"
      ],
      "metadata": {
        "id": "bDPt97-gSqsU"
      },
      "execution_count": 80,
      "outputs": []
    },
    {
      "cell_type": "code",
      "source": [
        "type(number_tuple)"
      ],
      "metadata": {
        "id": "0BUIO2KWS2Qx"
      },
      "execution_count": null,
      "outputs": []
    },
    {
      "cell_type": "code",
      "source": [
        "numbers_tuple[1]"
      ],
      "metadata": {
        "id": "LIowniX_TO9e"
      },
      "execution_count": null,
      "outputs": []
    },
    {
      "cell_type": "code",
      "source": [
        "numbers_tuple[2:4]"
      ],
      "metadata": {
        "id": "m__tJh1dTTvE"
      },
      "execution_count": null,
      "outputs": []
    },
    {
      "cell_type": "code",
      "source": [
        "# numbers_tuple[0] = 10"
      ],
      "metadata": {
        "id": "KWy3y0OOTfTI"
      },
      "execution_count": null,
      "outputs": []
    },
    {
      "cell_type": "code",
      "source": [
        "t1 = (21, 0, 3, 1, 34, 8, 13, 1, 55, 5, 2)"
      ],
      "metadata": {
        "id": "DTqX_FjWTtv3"
      },
      "execution_count": 59,
      "outputs": []
    },
    {
      "cell_type": "code",
      "source": [
        "t2 = sorted(t1)\n",
        "t2 #Check the type of t2"
      ],
      "metadata": {
        "id": "7yXwBCujTw_l"
      },
      "execution_count": null,
      "outputs": []
    },
    {
      "cell_type": "code",
      "source": [
        "translate = zip(numbers, colors_tuple)\n",
        "type(translate)"
      ],
      "metadata": {
        "id": "D74rNje-UxdS"
      },
      "execution_count": null,
      "outputs": []
    },
    {
      "cell_type": "code",
      "source": [
        "translate"
      ],
      "metadata": {
        "id": "Mcb6QXbkVABw"
      },
      "execution_count": null,
      "outputs": []
    },
    {
      "cell_type": "code",
      "source": [
        "list(translate)"
      ],
      "metadata": {
        "id": "lJeqtrYuVDCn"
      },
      "execution_count": null,
      "outputs": []
    },
    {
      "cell_type": "markdown",
      "source": [
        "###  Dictionaries:\n",
        "\n",
        "* A Python dictionary lets us find the information associated with a key.\n",
        "* A dictionary inPython is made out of *key* and *value* pairs.\n",
        "* We define a dictionary with curly brackets `{ }`.\n",
        "* Each key-value pair is constructed with a colon `:` between the key and the value and pairs are separated from each other by a comma.\n",
        "* The keys can be any immutable object: Numbers, strings or tuples for example.\n",
        "* The value associated with a particular key can be changed by reassigning the new value to the dictionary item with the correct key.\n",
        "* Dictionaries are mutable and duplicate keys are not\n",
        "allowed.\n"
      ],
      "metadata": {
        "id": "tX13e-c2Voxb"
      }
    },
    {
      "cell_type": "markdown",
      "source": [
        "#### Examples"
      ],
      "metadata": {
        "id": "51IVjGdJWhtO"
      }
    },
    {
      "cell_type": "code",
      "source": [
        "# creating a dictionary\n",
        "country_capitals = {\n",
        "  'Saudi Arabia' : 'Riyadh',\n",
        "  'United States': 'Washington D.C.',\n",
        "  'Italy': 'Rome',\n",
        "  'England': 'London'\n",
        "}\n",
        "\n",
        "# printing the dictionary\n",
        "print(country_capitals)"
      ],
      "metadata": {
        "id": "RkqrZxsGWhS2"
      },
      "execution_count": null,
      "outputs": []
    },
    {
      "cell_type": "code",
      "source": [
        "country_capitals['Saudi Arabia']"
      ],
      "metadata": {
        "id": "8GaWJTZjXn5n"
      },
      "execution_count": null,
      "outputs": []
    },
    {
      "cell_type": "code",
      "source": [
        "courses = {\n",
        "  '445100181' : ['527 SDE', '501 QUA', '522 SDE'],\n",
        "  '445110654': '501 QUA',\n",
        "  'Italy': ['501 FIN', '511 ECON']\n",
        "}"
      ],
      "metadata": {
        "id": "xQ-kjX_DYRbU"
      },
      "execution_count": 69,
      "outputs": []
    },
    {
      "cell_type": "code",
      "source": [
        "courses['445100181'][0]"
      ],
      "metadata": {
        "id": "ldBvjpAcZBjD"
      },
      "execution_count": null,
      "outputs": []
    },
    {
      "cell_type": "code",
      "source": [
        "#country_capitals['Lebanon']"
      ],
      "metadata": {
        "id": "pIdKZhLwZLDS"
      },
      "execution_count": null,
      "outputs": []
    },
    {
      "cell_type": "code",
      "source": [
        "country_capitals['Lebanon'] ='Beirut'"
      ],
      "metadata": {
        "id": "qqw6FYotZWHj"
      },
      "execution_count": 71,
      "outputs": []
    },
    {
      "cell_type": "code",
      "source": [
        "country_capitals['Lebanon']"
      ],
      "metadata": {
        "id": "MOyQqP9gZl2b"
      },
      "execution_count": null,
      "outputs": []
    },
    {
      "cell_type": "code",
      "source": [
        "country = country_capitals.keys()\n",
        "country"
      ],
      "metadata": {
        "id": "VMve48DnZ5dH"
      },
      "execution_count": null,
      "outputs": []
    },
    {
      "cell_type": "code",
      "source": [
        "country_capitals['Egypt'] ='Cairo'"
      ],
      "metadata": {
        "id": "u-Pkd61_ahSl"
      },
      "execution_count": 75,
      "outputs": []
    },
    {
      "cell_type": "code",
      "source": [
        "country"
      ],
      "metadata": {
        "id": "PRUY9M7-apQ9"
      },
      "execution_count": null,
      "outputs": []
    },
    {
      "cell_type": "code",
      "source": [
        "D = {k:v for (k, v) in translate}\n",
        "D"
      ],
      "metadata": {
        "id": "U7IPlhAIboXs"
      },
      "execution_count": 82,
      "outputs": []
    },
    {
      "cell_type": "code",
      "source": [
        "DD = dict(translate)"
      ],
      "metadata": {
        "id": "1JXBr5ojcWXm"
      },
      "execution_count": null,
      "outputs": []
    }
  ]
}